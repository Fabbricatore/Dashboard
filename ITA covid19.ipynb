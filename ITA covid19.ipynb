{
 "cells": [
  {
   "cell_type": "code",
   "execution_count": 9,
   "metadata": {},
   "outputs": [
    {
     "data": {
      "application/vnd.plotly.v1+json": {
       "config": {
        "plotlyServerURL": "https://plot.ly"
       },
       "data": [
        {
         "marker": {
          "color": "indianred"
         },
         "name": "Positivi",
         "type": "bar",
         "x": [
          "2020-02-24T18:00:00",
          "2020-02-25T18:00:00",
          "2020-02-26T18:00:00",
          "2020-02-27T18:00:00",
          "2020-02-28T18:00:00",
          "2020-02-29T18:00:00",
          "2020-03-01T18:00:00",
          "2020-03-02T18:00:00",
          "2020-03-03T18:00:00",
          "2020-03-04T18:00:00",
          "2020-03-05T18:00:00",
          "2020-03-06T18:00:00",
          "2020-03-07T18:00:00",
          "2020-03-08T18:00:00",
          "2020-03-09T18:00:00",
          "2020-03-10T18:00:00",
          "2020-03-11T17:00:00",
          "2020-03-12T17:00:00",
          "2020-03-13T17:00:00",
          "2020-03-14T17:00:00",
          "2020-03-15T17:00:00",
          "2020-03-16T17:00:00",
          "2020-03-17T17:00:00",
          "2020-03-18T17:00:00",
          "2020-03-19T17:00:00",
          "2020-03-20T17:00:00",
          "2020-03-21T17:00:00",
          "2020-03-22T17:00:00",
          "2020-03-23T17:00:00",
          "2020-03-24T17:00:00",
          "2020-03-25T17:00:00",
          "2020-03-26T17:00:00",
          "2020-03-27T17:00:00",
          "2020-03-28T17:00:00",
          "2020-03-29T17:00:00",
          "2020-03-30T17:00:00",
          "2020-03-31T17:00:00",
          "2020-04-01T17:00:00",
          "2020-04-02T17:00:00"
         ],
         "y": [
          221,
          93,
          78,
          250,
          238,
          240,
          566,
          342,
          466,
          587,
          769,
          778,
          1247,
          1492,
          1797,
          977,
          2313,
          2651,
          2547,
          3497,
          3590,
          3233,
          3526,
          4207,
          5322,
          5986,
          6557,
          5560,
          4789,
          5249,
          5210,
          6153,
          5959,
          5974,
          5217,
          4050,
          4053,
          4782,
          4668
         ]
        },
        {
         "marker": {
          "color": "lightsalmon"
         },
         "name": "Tamponi",
         "type": "bar",
         "x": [
          "2020-02-24T18:00:00",
          "2020-02-25T18:00:00",
          "2020-02-26T18:00:00",
          "2020-02-27T18:00:00",
          "2020-02-28T18:00:00",
          "2020-02-29T18:00:00",
          "2020-03-01T18:00:00",
          "2020-03-02T18:00:00",
          "2020-03-03T18:00:00",
          "2020-03-04T18:00:00",
          "2020-03-05T18:00:00",
          "2020-03-06T18:00:00",
          "2020-03-07T18:00:00",
          "2020-03-08T18:00:00",
          "2020-03-09T18:00:00",
          "2020-03-10T18:00:00",
          "2020-03-11T17:00:00",
          "2020-03-12T17:00:00",
          "2020-03-13T17:00:00",
          "2020-03-14T17:00:00",
          "2020-03-15T17:00:00",
          "2020-03-16T17:00:00",
          "2020-03-17T17:00:00",
          "2020-03-18T17:00:00",
          "2020-03-19T17:00:00",
          "2020-03-20T17:00:00",
          "2020-03-21T17:00:00",
          "2020-03-22T17:00:00",
          "2020-03-23T17:00:00",
          "2020-03-24T17:00:00",
          "2020-03-25T17:00:00",
          "2020-03-26T17:00:00",
          "2020-03-27T17:00:00",
          "2020-03-28T17:00:00",
          "2020-03-29T17:00:00",
          "2020-03-30T17:00:00",
          "2020-03-31T17:00:00",
          "2020-04-01T17:00:00",
          "2020-04-02T17:00:00"
         ],
         "y": [
          null,
          4299,
          964,
          2427,
          3681,
          2966,
          2466,
          2218,
          2511,
          3981,
          2525,
          3997,
          5703,
          7875,
          3889,
          6935,
          12393,
          12857,
          11477,
          11682,
          15729,
          13063,
          10695,
          16884,
          17236,
          24109,
          26336,
          25180,
          17066,
          21496,
          27481,
          36615,
          33019,
          35447,
          24504,
          23329,
          29609,
          34455,
          39809
         ]
        },
        {
         "mode": "lines+markers",
         "name": "%",
         "type": "scatter",
         "x": [
          "2020-02-24T18:00:00",
          "2020-02-25T18:00:00",
          "2020-02-26T18:00:00",
          "2020-02-27T18:00:00",
          "2020-02-28T18:00:00",
          "2020-02-29T18:00:00",
          "2020-03-01T18:00:00",
          "2020-03-02T18:00:00",
          "2020-03-03T18:00:00",
          "2020-03-04T18:00:00",
          "2020-03-05T18:00:00",
          "2020-03-06T18:00:00",
          "2020-03-07T18:00:00",
          "2020-03-08T18:00:00",
          "2020-03-09T18:00:00",
          "2020-03-10T18:00:00",
          "2020-03-11T17:00:00",
          "2020-03-12T17:00:00",
          "2020-03-13T17:00:00",
          "2020-03-14T17:00:00",
          "2020-03-15T17:00:00",
          "2020-03-16T17:00:00",
          "2020-03-17T17:00:00",
          "2020-03-18T17:00:00",
          "2020-03-19T17:00:00",
          "2020-03-20T17:00:00",
          "2020-03-21T17:00:00",
          "2020-03-22T17:00:00",
          "2020-03-23T17:00:00",
          "2020-03-24T17:00:00",
          "2020-03-25T17:00:00",
          "2020-03-26T17:00:00",
          "2020-03-27T17:00:00",
          "2020-03-28T17:00:00",
          "2020-03-29T17:00:00",
          "2020-03-30T17:00:00",
          "2020-03-31T17:00:00",
          "2020-04-01T17:00:00",
          "2020-04-02T17:00:00"
         ],
         "y": [
          null,
          2.2,
          8.1,
          10.3,
          6.5,
          8.1,
          23,
          15.4,
          18.6,
          14.7,
          30.5,
          19.5,
          21.9,
          18.9,
          46.2,
          14.1,
          18.7,
          20.6,
          22.2,
          29.9,
          22.8,
          24.7,
          33,
          24.9,
          30.9,
          24.8,
          24.9,
          22.1,
          28.1,
          24.4,
          19,
          16.8,
          18,
          16.9,
          21.3,
          17.4,
          13.7,
          13.9,
          11.7
         ],
         "yaxis": "y2"
        }
       ],
       "layout": {
        "hovermode": "x",
        "legend": {
         "bgcolor": "LightSteelBlue",
         "bordercolor": "Black",
         "borderwidth": 2,
         "font": {
          "color": "black",
          "family": "sans-serif",
          "size": 12
         },
         "traceorder": "normal",
         "x": 0,
         "y": 1
        },
        "template": {
         "data": {
          "bar": [
           {
            "error_x": {
             "color": "#2a3f5f"
            },
            "error_y": {
             "color": "#2a3f5f"
            },
            "marker": {
             "line": {
              "color": "#E5ECF6",
              "width": 0.5
             }
            },
            "type": "bar"
           }
          ],
          "barpolar": [
           {
            "marker": {
             "line": {
              "color": "#E5ECF6",
              "width": 0.5
             }
            },
            "type": "barpolar"
           }
          ],
          "carpet": [
           {
            "aaxis": {
             "endlinecolor": "#2a3f5f",
             "gridcolor": "white",
             "linecolor": "white",
             "minorgridcolor": "white",
             "startlinecolor": "#2a3f5f"
            },
            "baxis": {
             "endlinecolor": "#2a3f5f",
             "gridcolor": "white",
             "linecolor": "white",
             "minorgridcolor": "white",
             "startlinecolor": "#2a3f5f"
            },
            "type": "carpet"
           }
          ],
          "choropleth": [
           {
            "colorbar": {
             "outlinewidth": 0,
             "ticks": ""
            },
            "type": "choropleth"
           }
          ],
          "contour": [
           {
            "colorbar": {
             "outlinewidth": 0,
             "ticks": ""
            },
            "colorscale": [
             [
              0,
              "#0d0887"
             ],
             [
              0.1111111111111111,
              "#46039f"
             ],
             [
              0.2222222222222222,
              "#7201a8"
             ],
             [
              0.3333333333333333,
              "#9c179e"
             ],
             [
              0.4444444444444444,
              "#bd3786"
             ],
             [
              0.5555555555555556,
              "#d8576b"
             ],
             [
              0.6666666666666666,
              "#ed7953"
             ],
             [
              0.7777777777777778,
              "#fb9f3a"
             ],
             [
              0.8888888888888888,
              "#fdca26"
             ],
             [
              1,
              "#f0f921"
             ]
            ],
            "type": "contour"
           }
          ],
          "contourcarpet": [
           {
            "colorbar": {
             "outlinewidth": 0,
             "ticks": ""
            },
            "type": "contourcarpet"
           }
          ],
          "heatmap": [
           {
            "colorbar": {
             "outlinewidth": 0,
             "ticks": ""
            },
            "colorscale": [
             [
              0,
              "#0d0887"
             ],
             [
              0.1111111111111111,
              "#46039f"
             ],
             [
              0.2222222222222222,
              "#7201a8"
             ],
             [
              0.3333333333333333,
              "#9c179e"
             ],
             [
              0.4444444444444444,
              "#bd3786"
             ],
             [
              0.5555555555555556,
              "#d8576b"
             ],
             [
              0.6666666666666666,
              "#ed7953"
             ],
             [
              0.7777777777777778,
              "#fb9f3a"
             ],
             [
              0.8888888888888888,
              "#fdca26"
             ],
             [
              1,
              "#f0f921"
             ]
            ],
            "type": "heatmap"
           }
          ],
          "heatmapgl": [
           {
            "colorbar": {
             "outlinewidth": 0,
             "ticks": ""
            },
            "colorscale": [
             [
              0,
              "#0d0887"
             ],
             [
              0.1111111111111111,
              "#46039f"
             ],
             [
              0.2222222222222222,
              "#7201a8"
             ],
             [
              0.3333333333333333,
              "#9c179e"
             ],
             [
              0.4444444444444444,
              "#bd3786"
             ],
             [
              0.5555555555555556,
              "#d8576b"
             ],
             [
              0.6666666666666666,
              "#ed7953"
             ],
             [
              0.7777777777777778,
              "#fb9f3a"
             ],
             [
              0.8888888888888888,
              "#fdca26"
             ],
             [
              1,
              "#f0f921"
             ]
            ],
            "type": "heatmapgl"
           }
          ],
          "histogram": [
           {
            "marker": {
             "colorbar": {
              "outlinewidth": 0,
              "ticks": ""
             }
            },
            "type": "histogram"
           }
          ],
          "histogram2d": [
           {
            "colorbar": {
             "outlinewidth": 0,
             "ticks": ""
            },
            "colorscale": [
             [
              0,
              "#0d0887"
             ],
             [
              0.1111111111111111,
              "#46039f"
             ],
             [
              0.2222222222222222,
              "#7201a8"
             ],
             [
              0.3333333333333333,
              "#9c179e"
             ],
             [
              0.4444444444444444,
              "#bd3786"
             ],
             [
              0.5555555555555556,
              "#d8576b"
             ],
             [
              0.6666666666666666,
              "#ed7953"
             ],
             [
              0.7777777777777778,
              "#fb9f3a"
             ],
             [
              0.8888888888888888,
              "#fdca26"
             ],
             [
              1,
              "#f0f921"
             ]
            ],
            "type": "histogram2d"
           }
          ],
          "histogram2dcontour": [
           {
            "colorbar": {
             "outlinewidth": 0,
             "ticks": ""
            },
            "colorscale": [
             [
              0,
              "#0d0887"
             ],
             [
              0.1111111111111111,
              "#46039f"
             ],
             [
              0.2222222222222222,
              "#7201a8"
             ],
             [
              0.3333333333333333,
              "#9c179e"
             ],
             [
              0.4444444444444444,
              "#bd3786"
             ],
             [
              0.5555555555555556,
              "#d8576b"
             ],
             [
              0.6666666666666666,
              "#ed7953"
             ],
             [
              0.7777777777777778,
              "#fb9f3a"
             ],
             [
              0.8888888888888888,
              "#fdca26"
             ],
             [
              1,
              "#f0f921"
             ]
            ],
            "type": "histogram2dcontour"
           }
          ],
          "mesh3d": [
           {
            "colorbar": {
             "outlinewidth": 0,
             "ticks": ""
            },
            "type": "mesh3d"
           }
          ],
          "parcoords": [
           {
            "line": {
             "colorbar": {
              "outlinewidth": 0,
              "ticks": ""
             }
            },
            "type": "parcoords"
           }
          ],
          "pie": [
           {
            "automargin": true,
            "type": "pie"
           }
          ],
          "scatter": [
           {
            "marker": {
             "colorbar": {
              "outlinewidth": 0,
              "ticks": ""
             }
            },
            "type": "scatter"
           }
          ],
          "scatter3d": [
           {
            "line": {
             "colorbar": {
              "outlinewidth": 0,
              "ticks": ""
             }
            },
            "marker": {
             "colorbar": {
              "outlinewidth": 0,
              "ticks": ""
             }
            },
            "type": "scatter3d"
           }
          ],
          "scattercarpet": [
           {
            "marker": {
             "colorbar": {
              "outlinewidth": 0,
              "ticks": ""
             }
            },
            "type": "scattercarpet"
           }
          ],
          "scattergeo": [
           {
            "marker": {
             "colorbar": {
              "outlinewidth": 0,
              "ticks": ""
             }
            },
            "type": "scattergeo"
           }
          ],
          "scattergl": [
           {
            "marker": {
             "colorbar": {
              "outlinewidth": 0,
              "ticks": ""
             }
            },
            "type": "scattergl"
           }
          ],
          "scattermapbox": [
           {
            "marker": {
             "colorbar": {
              "outlinewidth": 0,
              "ticks": ""
             }
            },
            "type": "scattermapbox"
           }
          ],
          "scatterpolar": [
           {
            "marker": {
             "colorbar": {
              "outlinewidth": 0,
              "ticks": ""
             }
            },
            "type": "scatterpolar"
           }
          ],
          "scatterpolargl": [
           {
            "marker": {
             "colorbar": {
              "outlinewidth": 0,
              "ticks": ""
             }
            },
            "type": "scatterpolargl"
           }
          ],
          "scatterternary": [
           {
            "marker": {
             "colorbar": {
              "outlinewidth": 0,
              "ticks": ""
             }
            },
            "type": "scatterternary"
           }
          ],
          "surface": [
           {
            "colorbar": {
             "outlinewidth": 0,
             "ticks": ""
            },
            "colorscale": [
             [
              0,
              "#0d0887"
             ],
             [
              0.1111111111111111,
              "#46039f"
             ],
             [
              0.2222222222222222,
              "#7201a8"
             ],
             [
              0.3333333333333333,
              "#9c179e"
             ],
             [
              0.4444444444444444,
              "#bd3786"
             ],
             [
              0.5555555555555556,
              "#d8576b"
             ],
             [
              0.6666666666666666,
              "#ed7953"
             ],
             [
              0.7777777777777778,
              "#fb9f3a"
             ],
             [
              0.8888888888888888,
              "#fdca26"
             ],
             [
              1,
              "#f0f921"
             ]
            ],
            "type": "surface"
           }
          ],
          "table": [
           {
            "cells": {
             "fill": {
              "color": "#EBF0F8"
             },
             "line": {
              "color": "white"
             }
            },
            "header": {
             "fill": {
              "color": "#C8D4E3"
             },
             "line": {
              "color": "white"
             }
            },
            "type": "table"
           }
          ]
         },
         "layout": {
          "annotationdefaults": {
           "arrowcolor": "#2a3f5f",
           "arrowhead": 0,
           "arrowwidth": 1
          },
          "coloraxis": {
           "colorbar": {
            "outlinewidth": 0,
            "ticks": ""
           }
          },
          "colorscale": {
           "diverging": [
            [
             0,
             "#8e0152"
            ],
            [
             0.1,
             "#c51b7d"
            ],
            [
             0.2,
             "#de77ae"
            ],
            [
             0.3,
             "#f1b6da"
            ],
            [
             0.4,
             "#fde0ef"
            ],
            [
             0.5,
             "#f7f7f7"
            ],
            [
             0.6,
             "#e6f5d0"
            ],
            [
             0.7,
             "#b8e186"
            ],
            [
             0.8,
             "#7fbc41"
            ],
            [
             0.9,
             "#4d9221"
            ],
            [
             1,
             "#276419"
            ]
           ],
           "sequential": [
            [
             0,
             "#0d0887"
            ],
            [
             0.1111111111111111,
             "#46039f"
            ],
            [
             0.2222222222222222,
             "#7201a8"
            ],
            [
             0.3333333333333333,
             "#9c179e"
            ],
            [
             0.4444444444444444,
             "#bd3786"
            ],
            [
             0.5555555555555556,
             "#d8576b"
            ],
            [
             0.6666666666666666,
             "#ed7953"
            ],
            [
             0.7777777777777778,
             "#fb9f3a"
            ],
            [
             0.8888888888888888,
             "#fdca26"
            ],
            [
             1,
             "#f0f921"
            ]
           ],
           "sequentialminus": [
            [
             0,
             "#0d0887"
            ],
            [
             0.1111111111111111,
             "#46039f"
            ],
            [
             0.2222222222222222,
             "#7201a8"
            ],
            [
             0.3333333333333333,
             "#9c179e"
            ],
            [
             0.4444444444444444,
             "#bd3786"
            ],
            [
             0.5555555555555556,
             "#d8576b"
            ],
            [
             0.6666666666666666,
             "#ed7953"
            ],
            [
             0.7777777777777778,
             "#fb9f3a"
            ],
            [
             0.8888888888888888,
             "#fdca26"
            ],
            [
             1,
             "#f0f921"
            ]
           ]
          },
          "colorway": [
           "#636efa",
           "#EF553B",
           "#00cc96",
           "#ab63fa",
           "#FFA15A",
           "#19d3f3",
           "#FF6692",
           "#B6E880",
           "#FF97FF",
           "#FECB52"
          ],
          "font": {
           "color": "#2a3f5f"
          },
          "geo": {
           "bgcolor": "white",
           "lakecolor": "white",
           "landcolor": "#E5ECF6",
           "showlakes": true,
           "showland": true,
           "subunitcolor": "white"
          },
          "hoverlabel": {
           "align": "left"
          },
          "hovermode": "closest",
          "mapbox": {
           "style": "light"
          },
          "paper_bgcolor": "white",
          "plot_bgcolor": "#E5ECF6",
          "polar": {
           "angularaxis": {
            "gridcolor": "white",
            "linecolor": "white",
            "ticks": ""
           },
           "bgcolor": "#E5ECF6",
           "radialaxis": {
            "gridcolor": "white",
            "linecolor": "white",
            "ticks": ""
           }
          },
          "scene": {
           "xaxis": {
            "backgroundcolor": "#E5ECF6",
            "gridcolor": "white",
            "gridwidth": 2,
            "linecolor": "white",
            "showbackground": true,
            "ticks": "",
            "zerolinecolor": "white"
           },
           "yaxis": {
            "backgroundcolor": "#E5ECF6",
            "gridcolor": "white",
            "gridwidth": 2,
            "linecolor": "white",
            "showbackground": true,
            "ticks": "",
            "zerolinecolor": "white"
           },
           "zaxis": {
            "backgroundcolor": "#E5ECF6",
            "gridcolor": "white",
            "gridwidth": 2,
            "linecolor": "white",
            "showbackground": true,
            "ticks": "",
            "zerolinecolor": "white"
           }
          },
          "shapedefaults": {
           "line": {
            "color": "#2a3f5f"
           }
          },
          "ternary": {
           "aaxis": {
            "gridcolor": "white",
            "linecolor": "white",
            "ticks": ""
           },
           "baxis": {
            "gridcolor": "white",
            "linecolor": "white",
            "ticks": ""
           },
           "bgcolor": "#E5ECF6",
           "caxis": {
            "gridcolor": "white",
            "linecolor": "white",
            "ticks": ""
           }
          },
          "title": {
           "x": 0.05
          },
          "xaxis": {
           "automargin": true,
           "gridcolor": "white",
           "linecolor": "white",
           "ticks": "",
           "title": {
            "standoff": 15
           },
           "zerolinecolor": "white",
           "zerolinewidth": 2
          },
          "yaxis": {
           "automargin": true,
           "gridcolor": "white",
           "linecolor": "white",
           "ticks": "",
           "title": {
            "standoff": 15
           },
           "zerolinecolor": "white",
           "zerolinewidth": 2
          }
         }
        },
        "title": {
         "text": "Nuovi Positivi vs Tamponi Quotidiani"
        },
        "yaxis2": {
         "anchor": "free",
         "overlaying": "y",
         "position": 1,
         "side": "right",
         "title": {
          "text": "%"
         }
        }
       }
      },
      "text/html": [
       "<div>\n",
       "        \n",
       "        \n",
       "            <div id=\"61603359-69fd-4409-a261-d0c3bb08f57e\" class=\"plotly-graph-div\" style=\"height:525px; width:100%;\"></div>\n",
       "            <script type=\"text/javascript\">\n",
       "                require([\"plotly\"], function(Plotly) {\n",
       "                    window.PLOTLYENV=window.PLOTLYENV || {};\n",
       "                    \n",
       "                if (document.getElementById(\"61603359-69fd-4409-a261-d0c3bb08f57e\")) {\n",
       "                    Plotly.newPlot(\n",
       "                        '61603359-69fd-4409-a261-d0c3bb08f57e',\n",
       "                        [{\"marker\": {\"color\": \"indianred\"}, \"name\": \"Positivi\", \"type\": \"bar\", \"x\": [\"2020-02-24T18:00:00\", \"2020-02-25T18:00:00\", \"2020-02-26T18:00:00\", \"2020-02-27T18:00:00\", \"2020-02-28T18:00:00\", \"2020-02-29T18:00:00\", \"2020-03-01T18:00:00\", \"2020-03-02T18:00:00\", \"2020-03-03T18:00:00\", \"2020-03-04T18:00:00\", \"2020-03-05T18:00:00\", \"2020-03-06T18:00:00\", \"2020-03-07T18:00:00\", \"2020-03-08T18:00:00\", \"2020-03-09T18:00:00\", \"2020-03-10T18:00:00\", \"2020-03-11T17:00:00\", \"2020-03-12T17:00:00\", \"2020-03-13T17:00:00\", \"2020-03-14T17:00:00\", \"2020-03-15T17:00:00\", \"2020-03-16T17:00:00\", \"2020-03-17T17:00:00\", \"2020-03-18T17:00:00\", \"2020-03-19T17:00:00\", \"2020-03-20T17:00:00\", \"2020-03-21T17:00:00\", \"2020-03-22T17:00:00\", \"2020-03-23T17:00:00\", \"2020-03-24T17:00:00\", \"2020-03-25T17:00:00\", \"2020-03-26T17:00:00\", \"2020-03-27T17:00:00\", \"2020-03-28T17:00:00\", \"2020-03-29T17:00:00\", \"2020-03-30T17:00:00\", \"2020-03-31T17:00:00\", \"2020-04-01T17:00:00\", \"2020-04-02T17:00:00\"], \"y\": [221, 93, 78, 250, 238, 240, 566, 342, 466, 587, 769, 778, 1247, 1492, 1797, 977, 2313, 2651, 2547, 3497, 3590, 3233, 3526, 4207, 5322, 5986, 6557, 5560, 4789, 5249, 5210, 6153, 5959, 5974, 5217, 4050, 4053, 4782, 4668]}, {\"marker\": {\"color\": \"lightsalmon\"}, \"name\": \"Tamponi\", \"type\": \"bar\", \"x\": [\"2020-02-24T18:00:00\", \"2020-02-25T18:00:00\", \"2020-02-26T18:00:00\", \"2020-02-27T18:00:00\", \"2020-02-28T18:00:00\", \"2020-02-29T18:00:00\", \"2020-03-01T18:00:00\", \"2020-03-02T18:00:00\", \"2020-03-03T18:00:00\", \"2020-03-04T18:00:00\", \"2020-03-05T18:00:00\", \"2020-03-06T18:00:00\", \"2020-03-07T18:00:00\", \"2020-03-08T18:00:00\", \"2020-03-09T18:00:00\", \"2020-03-10T18:00:00\", \"2020-03-11T17:00:00\", \"2020-03-12T17:00:00\", \"2020-03-13T17:00:00\", \"2020-03-14T17:00:00\", \"2020-03-15T17:00:00\", \"2020-03-16T17:00:00\", \"2020-03-17T17:00:00\", \"2020-03-18T17:00:00\", \"2020-03-19T17:00:00\", \"2020-03-20T17:00:00\", \"2020-03-21T17:00:00\", \"2020-03-22T17:00:00\", \"2020-03-23T17:00:00\", \"2020-03-24T17:00:00\", \"2020-03-25T17:00:00\", \"2020-03-26T17:00:00\", \"2020-03-27T17:00:00\", \"2020-03-28T17:00:00\", \"2020-03-29T17:00:00\", \"2020-03-30T17:00:00\", \"2020-03-31T17:00:00\", \"2020-04-01T17:00:00\", \"2020-04-02T17:00:00\"], \"y\": [null, 4299.0, 964.0, 2427.0, 3681.0, 2966.0, 2466.0, 2218.0, 2511.0, 3981.0, 2525.0, 3997.0, 5703.0, 7875.0, 3889.0, 6935.0, 12393.0, 12857.0, 11477.0, 11682.0, 15729.0, 13063.0, 10695.0, 16884.0, 17236.0, 24109.0, 26336.0, 25180.0, 17066.0, 21496.0, 27481.0, 36615.0, 33019.0, 35447.0, 24504.0, 23329.0, 29609.0, 34455.0, 39809.0]}, {\"mode\": \"lines+markers\", \"name\": \"%\", \"type\": \"scatter\", \"x\": [\"2020-02-24T18:00:00\", \"2020-02-25T18:00:00\", \"2020-02-26T18:00:00\", \"2020-02-27T18:00:00\", \"2020-02-28T18:00:00\", \"2020-02-29T18:00:00\", \"2020-03-01T18:00:00\", \"2020-03-02T18:00:00\", \"2020-03-03T18:00:00\", \"2020-03-04T18:00:00\", \"2020-03-05T18:00:00\", \"2020-03-06T18:00:00\", \"2020-03-07T18:00:00\", \"2020-03-08T18:00:00\", \"2020-03-09T18:00:00\", \"2020-03-10T18:00:00\", \"2020-03-11T17:00:00\", \"2020-03-12T17:00:00\", \"2020-03-13T17:00:00\", \"2020-03-14T17:00:00\", \"2020-03-15T17:00:00\", \"2020-03-16T17:00:00\", \"2020-03-17T17:00:00\", \"2020-03-18T17:00:00\", \"2020-03-19T17:00:00\", \"2020-03-20T17:00:00\", \"2020-03-21T17:00:00\", \"2020-03-22T17:00:00\", \"2020-03-23T17:00:00\", \"2020-03-24T17:00:00\", \"2020-03-25T17:00:00\", \"2020-03-26T17:00:00\", \"2020-03-27T17:00:00\", \"2020-03-28T17:00:00\", \"2020-03-29T17:00:00\", \"2020-03-30T17:00:00\", \"2020-03-31T17:00:00\", \"2020-04-01T17:00:00\", \"2020-04-02T17:00:00\"], \"y\": [null, 2.2, 8.1, 10.3, 6.5, 8.1, 23.0, 15.4, 18.6, 14.7, 30.5, 19.5, 21.9, 18.9, 46.2, 14.1, 18.7, 20.6, 22.2, 29.9, 22.8, 24.7, 33.0, 24.9, 30.9, 24.8, 24.9, 22.1, 28.1, 24.4, 19.0, 16.8, 18.0, 16.9, 21.3, 17.4, 13.7, 13.9, 11.7], \"yaxis\": \"y2\"}],\n",
       "                        {\"hovermode\": \"x\", \"legend\": {\"bgcolor\": \"LightSteelBlue\", \"bordercolor\": \"Black\", \"borderwidth\": 2, \"font\": {\"color\": \"black\", \"family\": \"sans-serif\", \"size\": 12}, \"traceorder\": \"normal\", \"x\": 0, \"y\": 1}, \"template\": {\"data\": {\"bar\": [{\"error_x\": {\"color\": \"#2a3f5f\"}, \"error_y\": {\"color\": \"#2a3f5f\"}, \"marker\": {\"line\": {\"color\": \"#E5ECF6\", \"width\": 0.5}}, \"type\": \"bar\"}], \"barpolar\": [{\"marker\": {\"line\": {\"color\": \"#E5ECF6\", \"width\": 0.5}}, \"type\": \"barpolar\"}], \"carpet\": [{\"aaxis\": {\"endlinecolor\": \"#2a3f5f\", \"gridcolor\": \"white\", \"linecolor\": \"white\", \"minorgridcolor\": \"white\", \"startlinecolor\": \"#2a3f5f\"}, \"baxis\": {\"endlinecolor\": \"#2a3f5f\", \"gridcolor\": \"white\", \"linecolor\": \"white\", \"minorgridcolor\": \"white\", \"startlinecolor\": \"#2a3f5f\"}, \"type\": \"carpet\"}], \"choropleth\": [{\"colorbar\": {\"outlinewidth\": 0, \"ticks\": \"\"}, \"type\": \"choropleth\"}], \"contour\": [{\"colorbar\": {\"outlinewidth\": 0, \"ticks\": \"\"}, \"colorscale\": [[0.0, \"#0d0887\"], [0.1111111111111111, \"#46039f\"], [0.2222222222222222, \"#7201a8\"], [0.3333333333333333, \"#9c179e\"], [0.4444444444444444, \"#bd3786\"], [0.5555555555555556, \"#d8576b\"], [0.6666666666666666, \"#ed7953\"], [0.7777777777777778, \"#fb9f3a\"], [0.8888888888888888, \"#fdca26\"], [1.0, \"#f0f921\"]], \"type\": \"contour\"}], \"contourcarpet\": [{\"colorbar\": {\"outlinewidth\": 0, \"ticks\": \"\"}, \"type\": \"contourcarpet\"}], \"heatmap\": [{\"colorbar\": {\"outlinewidth\": 0, \"ticks\": \"\"}, \"colorscale\": [[0.0, \"#0d0887\"], [0.1111111111111111, \"#46039f\"], [0.2222222222222222, \"#7201a8\"], [0.3333333333333333, \"#9c179e\"], [0.4444444444444444, \"#bd3786\"], [0.5555555555555556, \"#d8576b\"], [0.6666666666666666, \"#ed7953\"], [0.7777777777777778, \"#fb9f3a\"], [0.8888888888888888, \"#fdca26\"], [1.0, \"#f0f921\"]], \"type\": \"heatmap\"}], \"heatmapgl\": [{\"colorbar\": {\"outlinewidth\": 0, \"ticks\": \"\"}, \"colorscale\": [[0.0, \"#0d0887\"], [0.1111111111111111, \"#46039f\"], [0.2222222222222222, \"#7201a8\"], [0.3333333333333333, \"#9c179e\"], [0.4444444444444444, \"#bd3786\"], [0.5555555555555556, \"#d8576b\"], [0.6666666666666666, \"#ed7953\"], [0.7777777777777778, \"#fb9f3a\"], [0.8888888888888888, \"#fdca26\"], [1.0, \"#f0f921\"]], \"type\": \"heatmapgl\"}], \"histogram\": [{\"marker\": {\"colorbar\": {\"outlinewidth\": 0, \"ticks\": \"\"}}, \"type\": \"histogram\"}], \"histogram2d\": [{\"colorbar\": {\"outlinewidth\": 0, \"ticks\": \"\"}, \"colorscale\": [[0.0, \"#0d0887\"], [0.1111111111111111, \"#46039f\"], [0.2222222222222222, \"#7201a8\"], [0.3333333333333333, \"#9c179e\"], [0.4444444444444444, \"#bd3786\"], [0.5555555555555556, \"#d8576b\"], [0.6666666666666666, \"#ed7953\"], [0.7777777777777778, \"#fb9f3a\"], [0.8888888888888888, \"#fdca26\"], [1.0, \"#f0f921\"]], \"type\": \"histogram2d\"}], \"histogram2dcontour\": [{\"colorbar\": {\"outlinewidth\": 0, \"ticks\": \"\"}, \"colorscale\": [[0.0, \"#0d0887\"], [0.1111111111111111, \"#46039f\"], [0.2222222222222222, \"#7201a8\"], [0.3333333333333333, \"#9c179e\"], [0.4444444444444444, \"#bd3786\"], [0.5555555555555556, \"#d8576b\"], [0.6666666666666666, \"#ed7953\"], [0.7777777777777778, \"#fb9f3a\"], [0.8888888888888888, \"#fdca26\"], [1.0, \"#f0f921\"]], \"type\": \"histogram2dcontour\"}], \"mesh3d\": [{\"colorbar\": {\"outlinewidth\": 0, \"ticks\": \"\"}, \"type\": \"mesh3d\"}], \"parcoords\": [{\"line\": {\"colorbar\": {\"outlinewidth\": 0, \"ticks\": \"\"}}, \"type\": \"parcoords\"}], \"pie\": [{\"automargin\": true, \"type\": \"pie\"}], \"scatter\": [{\"marker\": {\"colorbar\": {\"outlinewidth\": 0, \"ticks\": \"\"}}, \"type\": \"scatter\"}], \"scatter3d\": [{\"line\": {\"colorbar\": {\"outlinewidth\": 0, \"ticks\": \"\"}}, \"marker\": {\"colorbar\": {\"outlinewidth\": 0, \"ticks\": \"\"}}, \"type\": \"scatter3d\"}], \"scattercarpet\": [{\"marker\": {\"colorbar\": {\"outlinewidth\": 0, \"ticks\": \"\"}}, \"type\": \"scattercarpet\"}], \"scattergeo\": [{\"marker\": {\"colorbar\": {\"outlinewidth\": 0, \"ticks\": \"\"}}, \"type\": \"scattergeo\"}], \"scattergl\": [{\"marker\": {\"colorbar\": {\"outlinewidth\": 0, \"ticks\": \"\"}}, \"type\": \"scattergl\"}], \"scattermapbox\": [{\"marker\": {\"colorbar\": {\"outlinewidth\": 0, \"ticks\": \"\"}}, \"type\": \"scattermapbox\"}], \"scatterpolar\": [{\"marker\": {\"colorbar\": {\"outlinewidth\": 0, \"ticks\": \"\"}}, \"type\": \"scatterpolar\"}], \"scatterpolargl\": [{\"marker\": {\"colorbar\": {\"outlinewidth\": 0, \"ticks\": \"\"}}, \"type\": \"scatterpolargl\"}], \"scatterternary\": [{\"marker\": {\"colorbar\": {\"outlinewidth\": 0, \"ticks\": \"\"}}, \"type\": \"scatterternary\"}], \"surface\": [{\"colorbar\": {\"outlinewidth\": 0, \"ticks\": \"\"}, \"colorscale\": [[0.0, \"#0d0887\"], [0.1111111111111111, \"#46039f\"], [0.2222222222222222, \"#7201a8\"], [0.3333333333333333, \"#9c179e\"], [0.4444444444444444, \"#bd3786\"], [0.5555555555555556, \"#d8576b\"], [0.6666666666666666, \"#ed7953\"], [0.7777777777777778, \"#fb9f3a\"], [0.8888888888888888, \"#fdca26\"], [1.0, \"#f0f921\"]], \"type\": \"surface\"}], \"table\": [{\"cells\": {\"fill\": {\"color\": \"#EBF0F8\"}, \"line\": {\"color\": \"white\"}}, \"header\": {\"fill\": {\"color\": \"#C8D4E3\"}, \"line\": {\"color\": \"white\"}}, \"type\": \"table\"}]}, \"layout\": {\"annotationdefaults\": {\"arrowcolor\": \"#2a3f5f\", \"arrowhead\": 0, \"arrowwidth\": 1}, \"coloraxis\": {\"colorbar\": {\"outlinewidth\": 0, \"ticks\": \"\"}}, \"colorscale\": {\"diverging\": [[0, \"#8e0152\"], [0.1, \"#c51b7d\"], [0.2, \"#de77ae\"], [0.3, \"#f1b6da\"], [0.4, \"#fde0ef\"], [0.5, \"#f7f7f7\"], [0.6, \"#e6f5d0\"], [0.7, \"#b8e186\"], [0.8, \"#7fbc41\"], [0.9, \"#4d9221\"], [1, \"#276419\"]], \"sequential\": [[0.0, \"#0d0887\"], [0.1111111111111111, \"#46039f\"], [0.2222222222222222, \"#7201a8\"], [0.3333333333333333, \"#9c179e\"], [0.4444444444444444, \"#bd3786\"], [0.5555555555555556, \"#d8576b\"], [0.6666666666666666, \"#ed7953\"], [0.7777777777777778, \"#fb9f3a\"], [0.8888888888888888, \"#fdca26\"], [1.0, \"#f0f921\"]], \"sequentialminus\": [[0.0, \"#0d0887\"], [0.1111111111111111, \"#46039f\"], [0.2222222222222222, \"#7201a8\"], [0.3333333333333333, \"#9c179e\"], [0.4444444444444444, \"#bd3786\"], [0.5555555555555556, \"#d8576b\"], [0.6666666666666666, \"#ed7953\"], [0.7777777777777778, \"#fb9f3a\"], [0.8888888888888888, \"#fdca26\"], [1.0, \"#f0f921\"]]}, \"colorway\": [\"#636efa\", \"#EF553B\", \"#00cc96\", \"#ab63fa\", \"#FFA15A\", \"#19d3f3\", \"#FF6692\", \"#B6E880\", \"#FF97FF\", \"#FECB52\"], \"font\": {\"color\": \"#2a3f5f\"}, \"geo\": {\"bgcolor\": \"white\", \"lakecolor\": \"white\", \"landcolor\": \"#E5ECF6\", \"showlakes\": true, \"showland\": true, \"subunitcolor\": \"white\"}, \"hoverlabel\": {\"align\": \"left\"}, \"hovermode\": \"closest\", \"mapbox\": {\"style\": \"light\"}, \"paper_bgcolor\": \"white\", \"plot_bgcolor\": \"#E5ECF6\", \"polar\": {\"angularaxis\": {\"gridcolor\": \"white\", \"linecolor\": \"white\", \"ticks\": \"\"}, \"bgcolor\": \"#E5ECF6\", \"radialaxis\": {\"gridcolor\": \"white\", \"linecolor\": \"white\", \"ticks\": \"\"}}, \"scene\": {\"xaxis\": {\"backgroundcolor\": \"#E5ECF6\", \"gridcolor\": \"white\", \"gridwidth\": 2, \"linecolor\": \"white\", \"showbackground\": true, \"ticks\": \"\", \"zerolinecolor\": \"white\"}, \"yaxis\": {\"backgroundcolor\": \"#E5ECF6\", \"gridcolor\": \"white\", \"gridwidth\": 2, \"linecolor\": \"white\", \"showbackground\": true, \"ticks\": \"\", \"zerolinecolor\": \"white\"}, \"zaxis\": {\"backgroundcolor\": \"#E5ECF6\", \"gridcolor\": \"white\", \"gridwidth\": 2, \"linecolor\": \"white\", \"showbackground\": true, \"ticks\": \"\", \"zerolinecolor\": \"white\"}}, \"shapedefaults\": {\"line\": {\"color\": \"#2a3f5f\"}}, \"ternary\": {\"aaxis\": {\"gridcolor\": \"white\", \"linecolor\": \"white\", \"ticks\": \"\"}, \"baxis\": {\"gridcolor\": \"white\", \"linecolor\": \"white\", \"ticks\": \"\"}, \"bgcolor\": \"#E5ECF6\", \"caxis\": {\"gridcolor\": \"white\", \"linecolor\": \"white\", \"ticks\": \"\"}}, \"title\": {\"x\": 0.05}, \"xaxis\": {\"automargin\": true, \"gridcolor\": \"white\", \"linecolor\": \"white\", \"ticks\": \"\", \"title\": {\"standoff\": 15}, \"zerolinecolor\": \"white\", \"zerolinewidth\": 2}, \"yaxis\": {\"automargin\": true, \"gridcolor\": \"white\", \"linecolor\": \"white\", \"ticks\": \"\", \"title\": {\"standoff\": 15}, \"zerolinecolor\": \"white\", \"zerolinewidth\": 2}}}, \"title\": {\"text\": \"Nuovi Positivi vs Tamponi Quotidiani\"}, \"yaxis2\": {\"anchor\": \"free\", \"overlaying\": \"y\", \"position\": 1, \"side\": \"right\", \"title\": {\"text\": \"%\"}}},\n",
       "                        {\"responsive\": true}\n",
       "                    ).then(function(){\n",
       "                            \n",
       "var gd = document.getElementById('61603359-69fd-4409-a261-d0c3bb08f57e');\n",
       "var x = new MutationObserver(function (mutations, observer) {{\n",
       "        var display = window.getComputedStyle(gd).display;\n",
       "        if (!display || display === 'none') {{\n",
       "            console.log([gd, 'removed!']);\n",
       "            Plotly.purge(gd);\n",
       "            observer.disconnect();\n",
       "        }}\n",
       "}});\n",
       "\n",
       "// Listen for the removal of the full notebook cells\n",
       "var notebookContainer = gd.closest('#notebook-container');\n",
       "if (notebookContainer) {{\n",
       "    x.observe(notebookContainer, {childList: true});\n",
       "}}\n",
       "\n",
       "// Listen for the clearing of the current output cell\n",
       "var outputEl = gd.closest('.output');\n",
       "if (outputEl) {{\n",
       "    x.observe(outputEl, {childList: true});\n",
       "}}\n",
       "\n",
       "                        })\n",
       "                };\n",
       "                });\n",
       "            </script>\n",
       "        </div>"
      ]
     },
     "metadata": {},
     "output_type": "display_data"
    }
   ],
   "source": [
    "import pandas as pd\n",
    "import matplotlib.pyplot as plt\n",
    "import plotly.express as px\n",
    "import plotly.graph_objects as go\n",
    "\n",
    "\n",
    "\n",
    "url = 'https://raw.githubusercontent.com/pcm-dpc/COVID-19/master/dati-andamento-nazionale/dpc-covid19-ita-andamento-nazionale.csv'\n",
    "df = pd.read_csv( url, header = 0, index_col = 0, parse_dates=True )\n",
    "\n",
    "fig3 = go.Figure()\n",
    "\n",
    "fig3.add_trace(go.Bar( x = df.index, y = df['nuovi_positivi'], name='Positivi',marker_color='indianred'))\n",
    "fig3.add_trace(go.Bar( x = df.index, y = df['tamponi'].diff(), name='Tamponi',marker_color='lightsalmon'))\n",
    "\n",
    "percentuale = (df.iloc[:,7]/df.iloc[:,11].diff()*100).to_frame()\n",
    "percentuale.columns=['%']\n",
    "fig3.add_trace(go.Scatter( x = df.index, y=percentuale['%'].round(1), mode='lines+markers', name='%',yaxis=\"y2\"))\n",
    "\n",
    "\n",
    "fig3.update_layout(title='Nuovi Positivi vs Tamponi Quotidiani', hovermode='x',\n",
    "                   yaxis2=dict(\n",
    "                                    title=\"%\",\n",
    "                                    anchor=\"free\",\n",
    "                                    overlaying=\"y\",\n",
    "                                    side=\"right\",\n",
    "                                   position = 1\n",
    "                                ),\n",
    "                   legend=dict(\n",
    "                                    x=0,\n",
    "                                    y=1,\n",
    "                                    traceorder=\"normal\",\n",
    "                                    font=dict(\n",
    "                                        family=\"sans-serif\",\n",
    "                                        size=12,\n",
    "                                        color=\"black\"\n",
    "                                    ),\n",
    "                                    bgcolor=\"LightSteelBlue\",\n",
    "                                    bordercolor=\"Black\",\n",
    "                                    borderwidth=2\n",
    "                                )\n",
    "                  )"
   ]
  },
  {
   "cell_type": "code",
   "execution_count": null,
   "metadata": {},
   "outputs": [],
   "source": []
  }
 ],
 "metadata": {
  "kernelspec": {
   "display_name": "Python 3",
   "language": "python",
   "name": "python3"
  },
  "language_info": {
   "codemirror_mode": {
    "name": "ipython",
    "version": 3
   },
   "file_extension": ".py",
   "mimetype": "text/x-python",
   "name": "python",
   "nbconvert_exporter": "python",
   "pygments_lexer": "ipython3",
   "version": "3.7.6"
  },
  "widgets": {
   "application/vnd.jupyter.widget-state+json": {
    "state": {},
    "version_major": 2,
    "version_minor": 0
   }
  }
 },
 "nbformat": 4,
 "nbformat_minor": 4
}
